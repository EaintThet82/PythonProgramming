{
  "nbformat": 4,
  "nbformat_minor": 0,
  "metadata": {
    "colab": {
      "provenance": []
    },
    "kernelspec": {
      "name": "python3",
      "display_name": "Python 3"
    },
    "language_info": {
      "name": "python"
    }
  },
  "cells": [
    {
      "cell_type": "markdown",
      "source": [
        " Write a Python program to create a dictionary that count the frequency of words in the string given in Q1.txt. Find the most frequent occured word.\n"
      ],
      "metadata": {
        "id": "zwz6fqLk93Wh"
      }
    },
    {
      "cell_type": "code",
      "source": [
        "with open(\"Q1.txt\", \"r\") as file1:\n",
        "    content = file1.read()\n",
        "\n",
        "word_frequency = {}\n",
        "splitted_words = content.split()\n",
        "\n",
        "for word in splitted_words:\n",
        "    word = word.strip(\"!.,\").lower()\n",
        "\n",
        "    if word in word_frequency:\n",
        "        word_frequency[word] += 1\n",
        "    else:\n",
        "        word_frequency[word] = 1\n",
        "\n",
        "for word, count in word_frequency.items():\n",
        "    print(\"'{}': {}\".format(word,count))\n",
        "\n",
        "for word, count in word_frequency.items():\n",
        "    if count > most_frequent_count:\n",
        "        most_frequent_word = word\n",
        "        most_frequent_count = count\n",
        "\n",
        "print(\"The most frequent word is '{}' which has a frequency of {}.\".format(most_frequent_word, most_frequent_count))"
      ],
      "metadata": {
        "colab": {
          "base_uri": "https://localhost:8080/"
        },
        "id": "z4akoe2CEyOn",
        "outputId": "9e9437ee-c8e7-4ce4-8811-b5191a8a1a8b"
      },
      "execution_count": null,
      "outputs": [
        {
          "output_type": "stream",
          "name": "stdout",
          "text": [
            "'i': 4\n",
            "'love': 1\n",
            "'this': 1\n",
            "'movie': 1\n",
            "'it': 5\n",
            "'is': 1\n",
            "'sweet': 1\n",
            "'but': 1\n",
            "'with': 1\n",
            "'satirical': 1\n",
            "'humor': 1\n",
            "'the': 4\n",
            "'dialogs': 1\n",
            "'are': 2\n",
            "'great': 1\n",
            "'and': 4\n",
            "'adventure': 1\n",
            "'scenes': 1\n",
            "'fun': 1\n",
            "'manages': 1\n",
            "'to': 3\n",
            "'be': 1\n",
            "'romantic': 1\n",
            "'whimsical': 1\n",
            "'while': 1\n",
            "'laughingat': 1\n",
            "'conventions': 1\n",
            "'of': 1\n",
            "'fairy': 1\n",
            "'tale': 1\n",
            "'genre': 1\n",
            "'would': 1\n",
            "'recommend': 1\n",
            "'just': 1\n",
            "'about': 1\n",
            "'anyone': 1\n",
            "'have': 1\n",
            "'seen': 1\n",
            "'several': 1\n",
            "'times': 1\n",
            "'am': 1\n",
            "'always': 1\n",
            "'happy': 1\n",
            "'see': 1\n",
            "'again': 2\n",
            "The most frequent word is 'it' which has a frequency of 5.\n"
          ]
        }
      ]
    }
  ]
}